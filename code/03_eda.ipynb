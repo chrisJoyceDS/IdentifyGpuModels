{
 "cells": [
  {
   "cell_type": "code",
   "execution_count": 81,
   "id": "ee9efbc6-dab7-47cb-ab4c-ca169e3ecf7f",
   "metadata": {},
   "outputs": [],
   "source": [
    "import pandas as pd\n",
    "import matplotlib.pyplot as plt\n",
    "import seaborn as sns\n",
    "import re"
   ]
  },
  {
   "cell_type": "markdown",
   "id": "c1b0a0d4-431e-4473-99c6-9a80d8d070a5",
   "metadata": {},
   "source": [
    "___\n",
    "## Read in Cleaned Post CSV"
   ]
  },
  {
   "cell_type": "code",
   "execution_count": 3,
   "id": "df5b5b05-e7e9-4f36-b0fa-0af123ae0d9c",
   "metadata": {},
   "outputs": [],
   "source": [
    "df_posts = pd.read_csv('../data/cleaned_NVIDIA_AMD.csv', low_memory=False, index_col=0)"
   ]
  },
  {
   "cell_type": "code",
   "execution_count": 4,
   "id": "f4081610-b3f8-46dd-a556-57bcea2404f7",
   "metadata": {},
   "outputs": [
    {
     "data": {
      "text/html": [
       "<div>\n",
       "<style scoped>\n",
       "    .dataframe tbody tr th:only-of-type {\n",
       "        vertical-align: middle;\n",
       "    }\n",
       "\n",
       "    .dataframe tbody tr th {\n",
       "        vertical-align: top;\n",
       "    }\n",
       "\n",
       "    .dataframe thead th {\n",
       "        text-align: right;\n",
       "    }\n",
       "</style>\n",
       "<table border=\"1\" class=\"dataframe\">\n",
       "  <thead>\n",
       "    <tr style=\"text-align: right;\">\n",
       "      <th></th>\n",
       "      <th>subreddit</th>\n",
       "      <th>selftext</th>\n",
       "      <th>title</th>\n",
       "      <th>author</th>\n",
       "      <th>num_comments</th>\n",
       "    </tr>\n",
       "  </thead>\n",
       "  <tbody>\n",
       "    <tr>\n",
       "      <th>1</th>\n",
       "      <td>nvidia</td>\n",
       "      <td>Which should I use and are they both safe? [Pr...</td>\n",
       "      <td>NvidiaProfileInspector or NvidiaInspector?</td>\n",
       "      <td>DeepSpaceHorizon</td>\n",
       "      <td>0.0</td>\n",
       "    </tr>\n",
       "    <tr>\n",
       "      <th>2</th>\n",
       "      <td>nvidia</td>\n",
       "      <td>before march fifth my vids looked like this \\n...</td>\n",
       "      <td>shadowplay is wierdpease help me</td>\n",
       "      <td>bob6572</td>\n",
       "      <td>0.0</td>\n",
       "    </tr>\n",
       "    <tr>\n",
       "      <th>4</th>\n",
       "      <td>nvidia</td>\n",
       "      <td>CPU: Intel Core i7-8700 3.20GHz\\nRAM: 16GB\\nGP...</td>\n",
       "      <td>Nvidia Gefore GTX 1060 6gb replacement options?</td>\n",
       "      <td>shukii89</td>\n",
       "      <td>0.0</td>\n",
       "    </tr>\n",
       "    <tr>\n",
       "      <th>5</th>\n",
       "      <td>nvidia</td>\n",
       "      <td>I have an MSI Venus 2X RTX 3060 Card and I've ...</td>\n",
       "      <td>Did latest driver update break features like R...</td>\n",
       "      <td>cr6sxwastaken</td>\n",
       "      <td>0.0</td>\n",
       "    </tr>\n",
       "    <tr>\n",
       "      <th>6</th>\n",
       "      <td>nvidia</td>\n",
       "      <td>Hi \\n\\nI built my PC last May and no problem s...</td>\n",
       "      <td>Msi Suprim 3080 ti downclock itself by 250mhz ...</td>\n",
       "      <td>Kooky-Introduction70</td>\n",
       "      <td>0.0</td>\n",
       "    </tr>\n",
       "  </tbody>\n",
       "</table>\n",
       "</div>"
      ],
      "text/plain": [
       "  subreddit                                           selftext  \\\n",
       "1    nvidia  Which should I use and are they both safe? [Pr...   \n",
       "2    nvidia  before march fifth my vids looked like this \\n...   \n",
       "4    nvidia  CPU: Intel Core i7-8700 3.20GHz\\nRAM: 16GB\\nGP...   \n",
       "5    nvidia  I have an MSI Venus 2X RTX 3060 Card and I've ...   \n",
       "6    nvidia  Hi \\n\\nI built my PC last May and no problem s...   \n",
       "\n",
       "                                               title                author  \\\n",
       "1         NvidiaProfileInspector or NvidiaInspector?      DeepSpaceHorizon   \n",
       "2                   shadowplay is wierdpease help me               bob6572   \n",
       "4    Nvidia Gefore GTX 1060 6gb replacement options?              shukii89   \n",
       "5  Did latest driver update break features like R...         cr6sxwastaken   \n",
       "6  Msi Suprim 3080 ti downclock itself by 250mhz ...  Kooky-Introduction70   \n",
       "\n",
       "   num_comments  \n",
       "1           0.0  \n",
       "2           0.0  \n",
       "4           0.0  \n",
       "5           0.0  \n",
       "6           0.0  "
      ]
     },
     "execution_count": 4,
     "metadata": {},
     "output_type": "execute_result"
    }
   ],
   "source": [
    "df_posts.head()"
   ]
  },
  {
   "cell_type": "code",
   "execution_count": 5,
   "id": "eae55608-35f2-44c9-87cc-55345190f6e9",
   "metadata": {},
   "outputs": [
    {
     "data": {
      "text/plain": [
       "subreddit       0\n",
       "selftext        0\n",
       "title           0\n",
       "author          0\n",
       "num_comments    0\n",
       "dtype: int64"
      ]
     },
     "execution_count": 5,
     "metadata": {},
     "output_type": "execute_result"
    }
   ],
   "source": [
    "df_posts.isnull().sum()"
   ]
  },
  {
   "cell_type": "markdown",
   "id": "81fafe6f-3487-4752-b8bc-2e901da33bcc",
   "metadata": {},
   "source": [
    "---\n",
    "\n",
    "### Initial EDA and Visualization\n",
    "- Before we dive into the selftext and title, I want to use the columns we have at the moment to get a high level snap shot of the two different subreddits\n",
    "- Looking to plot:\n",
    "    - Average number of comments per subreddit\n",
    "    - Title and Selftext length per subreddit\n",
    "    - Word Count for Title and Selftext per subreddit\n",
    "- Before plotting, let's add 4 columns to the dataframe:\n",
    "    - selftext_word_count\n",
    "    - selftext_length\n",
    "    - title_word_count\n",
    "    - title_length"
   ]
  },
  {
   "cell_type": "code",
   "execution_count": 6,
   "id": "0f5a1ce2-ce58-411b-acb3-2f28d11f8221",
   "metadata": {},
   "outputs": [],
   "source": [
    "df_posts['selftext_word_count'] = [len(selftext.split()) for selftext in df_posts['selftext']]\n",
    "df_posts['selftext_length'] = [len(selftext) for selftext in df_posts['selftext']]\n",
    "df_posts['title_word_count'] = [len(title.split()) for title in df_posts['title']]\n",
    "df_posts['title_length'] = [len(title) for title in df_posts['title']]"
   ]
  },
  {
   "cell_type": "code",
   "execution_count": 7,
   "id": "27477d5b-efab-4220-874a-6831a2d69d71",
   "metadata": {},
   "outputs": [
    {
     "data": {
      "text/html": [
       "<div>\n",
       "<style scoped>\n",
       "    .dataframe tbody tr th:only-of-type {\n",
       "        vertical-align: middle;\n",
       "    }\n",
       "\n",
       "    .dataframe tbody tr th {\n",
       "        vertical-align: top;\n",
       "    }\n",
       "\n",
       "    .dataframe thead th {\n",
       "        text-align: right;\n",
       "    }\n",
       "</style>\n",
       "<table border=\"1\" class=\"dataframe\">\n",
       "  <thead>\n",
       "    <tr style=\"text-align: right;\">\n",
       "      <th></th>\n",
       "      <th>subreddit</th>\n",
       "      <th>selftext</th>\n",
       "      <th>title</th>\n",
       "      <th>author</th>\n",
       "      <th>num_comments</th>\n",
       "      <th>selftext_word_count</th>\n",
       "      <th>selftext_length</th>\n",
       "      <th>title_word_count</th>\n",
       "      <th>title_length</th>\n",
       "    </tr>\n",
       "  </thead>\n",
       "  <tbody>\n",
       "    <tr>\n",
       "      <th>1</th>\n",
       "      <td>nvidia</td>\n",
       "      <td>Which should I use and are they both safe? [Pr...</td>\n",
       "      <td>NvidiaProfileInspector or NvidiaInspector?</td>\n",
       "      <td>DeepSpaceHorizon</td>\n",
       "      <td>0.0</td>\n",
       "      <td>14</td>\n",
       "      <td>179</td>\n",
       "      <td>3</td>\n",
       "      <td>42</td>\n",
       "    </tr>\n",
       "  </tbody>\n",
       "</table>\n",
       "</div>"
      ],
      "text/plain": [
       "  subreddit                                           selftext  \\\n",
       "1    nvidia  Which should I use and are they both safe? [Pr...   \n",
       "\n",
       "                                        title            author  num_comments  \\\n",
       "1  NvidiaProfileInspector or NvidiaInspector?  DeepSpaceHorizon           0.0   \n",
       "\n",
       "   selftext_word_count  selftext_length  title_word_count  title_length  \n",
       "1                   14              179                 3            42  "
      ]
     },
     "execution_count": 7,
     "metadata": {},
     "output_type": "execute_result"
    }
   ],
   "source": [
    "df_posts.head(1)"
   ]
  },
  {
   "cell_type": "code",
   "execution_count": 59,
   "id": "709d62c2-e606-4f81-a987-92eb4caf73f3",
   "metadata": {},
   "outputs": [
    {
     "data": {
      "text/plain": [
       "''"
      ]
     },
     "execution_count": 59,
     "metadata": {},
     "output_type": "execute_result"
    },
    {
     "data": {
      "image/png": "[encoded data removed]",
      "text/plain": [
       "<Figure size 640x480 with 1 Axes>"
      ]
     },
     "metadata": {},
     "output_type": "display_data"
    }
   ],
   "source": [
    "fig = plt.figure()\n",
    "\n",
    "for subreddit in df_posts.subreddit.unique():\n",
    "    plt.hist(\n",
    "        df_posts[df_posts['subreddit'] == subreddit].title_word_count,\n",
    "        alpha = .5, #handle overlap with opactity\n",
    "        label = subreddit,\n",
    "        bins = 30,\n",
    "    )\n",
    "    \n",
    "plt.legend()\n",
    "plt.title('Distribution of Title Wordcount by Subreddit')\n",
    "plt.xlabel('Title Word Count')\n",
    "plt.ylabel('Count');\n",
    ";"
   ]
  },
  {
   "cell_type": "markdown",
   "id": "bf7abb70-0088-418e-9052-9be5ac47e0de",
   "metadata": {},
   "source": [
    "- The distributions of Title word count are strikingly similar between the two subreddits\n",
    "- The only reason AMD is currently overshadowing NVIDIA is because of the difference in post population after cleaning\n",
    "- As to how this affects the model, down the line after a couple of iterations I was contemplating using additional features such as Title Wordcount, etc. as potential differentiators, but given the relatable distributions, that probably wouldn't help with the noise"
   ]
  },
  {
   "cell_type": "code",
   "execution_count": 60,
   "id": "d5981407-a9a3-4137-8986-1f7665b46030",
   "metadata": {},
   "outputs": [
    {
     "data": {
      "text/plain": [
       "''"
      ]
     },
     "execution_count": 60,
     "metadata": {},
     "output_type": "execute_result"
    },
    {
     "data": {
      "image/png": "[encoded data removed]",
      "text/plain": [
       "<Figure size 640x480 with 1 Axes>"
      ]
     },
     "metadata": {},
     "output_type": "display_data"
    }
   ],
   "source": [
    "fig = plt.figure()\n",
    "\n",
    "for subreddit in df_posts.subreddit.unique():\n",
    "    plt.hist(\n",
    "        df_posts[df_posts['subreddit'] == subreddit].selftext_word_count,\n",
    "        alpha = .5, #handle overlap with opactity\n",
    "        label = subreddit,\n",
    "        bins = 100,\n",
    "    )\n",
    "    \n",
    "plt.legend()\n",
    "plt.title('Distribution of Selftext Wordcount by Subreddit')\n",
    "plt.xlabel('Selftext Word Count')\n",
    "plt.ylabel('Count');\n",
    ";"
   ]
  },
  {
   "cell_type": "markdown",
   "id": "780ea08c-3605-4ef7-8144-03c0842dd54d",
   "metadata": {},
   "source": [
    "- Similar to Title word count, distributions are mirrors of each other\n",
    "- Not the most readable, would not include this in a presentation"
   ]
  },
  {
   "cell_type": "code",
   "execution_count": 52,
   "id": "1e424b5f-5d33-4b6b-b81d-ba9b0a821e26",
   "metadata": {},
   "outputs": [
    {
     "data": {
      "text/plain": [
       "''"
      ]
     },
     "execution_count": 52,
     "metadata": {},
     "output_type": "execute_result"
    },
    {
     "data": {
      "image/png": "[encoded data removed]",
      "text/plain": [
       "<Figure size 640x480 with 1 Axes>"
      ]
     },
     "metadata": {},
     "output_type": "display_data"
    }
   ],
   "source": [
    "fig = plt.figure()\n",
    "\n",
    "for subreddit in df_posts.subreddit.unique():\n",
    "    plt.hist(\n",
    "        df_posts[df_posts['subreddit'] == subreddit].selftext_length,\n",
    "        alpha = .5, #handle overlap with opactity\n",
    "        label = subreddit,\n",
    "        bins = 500,\n",
    "        log=True\n",
    "    )\n",
    "    \n",
    "plt.legend()\n",
    "plt.title('Distribution of Selftext Length by Subreddit')\n",
    "plt.xlabel('Selftext Length')\n",
    "plt.ylabel('Count');\n",
    ";"
   ]
  },
  {
   "cell_type": "markdown",
   "id": "5f060a37-d8ac-4f99-85ce-ac1579697d26",
   "metadata": {},
   "source": [
    "- I was curious if selftext length also followed the same pattern, but also wanted to experiment with visualizing extreme values hence the log parameter."
   ]
  },
  {
   "cell_type": "code",
   "execution_count": 71,
   "id": "9d75ae8f-c9ec-4b64-8cad-0c55cb0f1ab0",
   "metadata": {},
   "outputs": [
    {
     "data": {
      "text/plain": [
       "Amd       120094\n",
       "nvidia     75875\n",
       "Name: subreddit, dtype: int64"
      ]
     },
     "execution_count": 71,
     "metadata": {},
     "output_type": "execute_result"
    }
   ],
   "source": [
    "df_posts['subreddit'].value_counts()"
   ]
  },
  {
   "cell_type": "code",
   "execution_count": 70,
   "id": "1d97df53-bded-4c0a-8944-cf099c186fb7",
   "metadata": {},
   "outputs": [
    {
     "data": {
      "text/plain": [
       "subreddit\n",
       "Amd       47167\n",
       "nvidia    41560\n",
       "Name: author, dtype: int64"
      ]
     },
     "execution_count": 70,
     "metadata": {},
     "output_type": "execute_result"
    }
   ],
   "source": [
    "df_posts.groupby('subreddit')['author'].nunique().sort_values(ascending=False)"
   ]
  },
  {
   "cell_type": "markdown",
   "id": "215000db-b0dd-4390-9ee1-355dcc3e85dd",
   "metadata": {},
   "source": [
    "- Despite having a ~45k difference in available posts/observations, the number of unique authors within each subreddit is surprisingly closer than expected.\n",
    "- Pure speculation but this could signify that there are more duplicate authors within AMD than there are in NVIDIA, which could be explained by NVIDIA's market share.\n",
    "\n",
    "---\n",
    "\n",
    "- Separately, curious to see if the length of a post has any relation to the number of comments, afterwards will move on to breaking down the selftext and title features to jumpstart to the modeling process."
   ]
  },
  {
   "cell_type": "code",
   "execution_count": 81,
   "id": "d68f2118-1127-4bae-946f-daf536558fbd",
   "metadata": {},
   "outputs": [
    {
     "data": {
      "image/png": "[encoded data removed]",
      "text/plain": [
       "<Figure size 640x480 with 1 Axes>"
      ]
     },
     "metadata": {},
     "output_type": "display_data"
    }
   ],
   "source": [
    "for s in df_posts.subreddit.unique():\n",
    "    plt.scatter(data = df_posts[df_posts.subreddit == s],\n",
    "                x = 'selftext_word_count',\n",
    "                y = 'num_comments',\n",
    "               label = s,\n",
    "               alpha = 0.7)\n",
    "\n",
    "plt.title('Number of Comments vs Selftext Word Count by Subreddit')\n",
    "plt.xlabel('Number of Comments')\n",
    "plt.ylabel('Selftext Word Count')\n",
    "\n",
    "plt.legend();"
   ]
  },
  {
   "cell_type": "code",
   "execution_count": 88,
   "id": "0e62bcac-1ba9-41fa-b270-284a9f816e62",
   "metadata": {},
   "outputs": [
    {
     "data": {
      "image/png": "[encoded data removed]",
      "text/plain": [
       "<Figure size 640x480 with 1 Axes>"
      ]
     },
     "metadata": {},
     "output_type": "display_data"
    }
   ],
   "source": [
    "for s in df_posts.subreddit.unique():\n",
    "    plt.scatter(data = df_posts[df_posts.subreddit == s],\n",
    "                x = 'title_word_count',\n",
    "                y = 'num_comments',\n",
    "               label = s,\n",
    "               alpha = 0.7)\n",
    "\n",
    "plt.title('Number of Comments vs Title Word Count by Subreddit')\n",
    "plt.xlabel('Number of Comments')\n",
    "plt.ylabel('Title Word Count')\n",
    "\n",
    "plt.legend();"
   ]
  },
  {
   "cell_type": "markdown",
   "id": "9a6890b5-a2fe-4273-bd06-935df0804761",
   "metadata": {},
   "source": [
    "- The subreddits continue to behave similarly\n",
    "- Only callable difference is with the help of outliers wherein there are limited, specific instances where Title/Selftext length is exponentially larger than the base set, with a high amount of comments."
   ]
  },
  {
   "cell_type": "markdown",
   "id": "32e2c5d7-d78d-4720-bdca-99461c354353",
   "metadata": {},
   "source": [
    "___\n",
    "\n",
    "### Additional Descriptive Statistics"
   ]
  },
  {
   "cell_type": "code",
   "execution_count": 74,
   "id": "24d6dd75-1cef-4c81-95ac-2c0b64bafbaf",
   "metadata": {},
   "outputs": [
    {
     "data": {
      "text/html": [
       "<div>\n",
       "<style scoped>\n",
       "    .dataframe tbody tr th:only-of-type {\n",
       "        vertical-align: middle;\n",
       "    }\n",
       "\n",
       "    .dataframe tbody tr th {\n",
       "        vertical-align: top;\n",
       "    }\n",
       "\n",
       "    .dataframe thead th {\n",
       "        text-align: right;\n",
       "    }\n",
       "</style>\n",
       "<table border=\"1\" class=\"dataframe\">\n",
       "  <thead>\n",
       "    <tr style=\"text-align: right;\">\n",
       "      <th></th>\n",
       "      <th>num_comments</th>\n",
       "      <th>selftext_word_count</th>\n",
       "      <th>selftext_length</th>\n",
       "      <th>title_word_count</th>\n",
       "      <th>title_length</th>\n",
       "    </tr>\n",
       "  </thead>\n",
       "  <tbody>\n",
       "    <tr>\n",
       "      <th>count</th>\n",
       "      <td>195969.000000</td>\n",
       "      <td>195969.000000</td>\n",
       "      <td>195969.000000</td>\n",
       "      <td>195969.000000</td>\n",
       "      <td>195969.000000</td>\n",
       "    </tr>\n",
       "    <tr>\n",
       "      <th>mean</th>\n",
       "      <td>16.334364</td>\n",
       "      <td>80.652996</td>\n",
       "      <td>470.205507</td>\n",
       "      <td>9.005868</td>\n",
       "      <td>49.207033</td>\n",
       "    </tr>\n",
       "    <tr>\n",
       "      <th>std</th>\n",
       "      <td>68.494011</td>\n",
       "      <td>130.748887</td>\n",
       "      <td>835.166598</td>\n",
       "      <td>5.567995</td>\n",
       "      <td>29.655443</td>\n",
       "    </tr>\n",
       "    <tr>\n",
       "      <th>min</th>\n",
       "      <td>0.000000</td>\n",
       "      <td>0.000000</td>\n",
       "      <td>1.000000</td>\n",
       "      <td>1.000000</td>\n",
       "      <td>1.000000</td>\n",
       "    </tr>\n",
       "    <tr>\n",
       "      <th>25%</th>\n",
       "      <td>2.000000</td>\n",
       "      <td>13.000000</td>\n",
       "      <td>78.000000</td>\n",
       "      <td>5.000000</td>\n",
       "      <td>30.000000</td>\n",
       "    </tr>\n",
       "    <tr>\n",
       "      <th>50%</th>\n",
       "      <td>8.000000</td>\n",
       "      <td>50.000000</td>\n",
       "      <td>277.000000</td>\n",
       "      <td>8.000000</td>\n",
       "      <td>43.000000</td>\n",
       "    </tr>\n",
       "    <tr>\n",
       "      <th>75%</th>\n",
       "      <td>17.000000</td>\n",
       "      <td>100.000000</td>\n",
       "      <td>560.000000</td>\n",
       "      <td>11.000000</td>\n",
       "      <td>61.000000</td>\n",
       "    </tr>\n",
       "    <tr>\n",
       "      <th>max</th>\n",
       "      <td>18378.000000</td>\n",
       "      <td>6230.000000</td>\n",
       "      <td>39948.000000</td>\n",
       "      <td>68.000000</td>\n",
       "      <td>301.000000</td>\n",
       "    </tr>\n",
       "  </tbody>\n",
       "</table>\n",
       "</div>"
      ],
      "text/plain": [
       "        num_comments  selftext_word_count  selftext_length  title_word_count  \\\n",
       "count  195969.000000        195969.000000    195969.000000     195969.000000   \n",
       "mean       16.334364            80.652996       470.205507          9.005868   \n",
       "std        68.494011           130.748887       835.166598          5.567995   \n",
       "min         0.000000             0.000000         1.000000          1.000000   \n",
       "25%         2.000000            13.000000        78.000000          5.000000   \n",
       "50%         8.000000            50.000000       277.000000          8.000000   \n",
       "75%        17.000000           100.000000       560.000000         11.000000   \n",
       "max     18378.000000          6230.000000     39948.000000         68.000000   \n",
       "\n",
       "        title_length  \n",
       "count  195969.000000  \n",
       "mean       49.207033  \n",
       "std        29.655443  \n",
       "min         1.000000  \n",
       "25%        30.000000  \n",
       "50%        43.000000  \n",
       "75%        61.000000  \n",
       "max       301.000000  "
      ]
     },
     "execution_count": 74,
     "metadata": {},
     "output_type": "execute_result"
    }
   ],
   "source": [
    "df_posts.describe()"
   ]
  },
  {
   "cell_type": "markdown",
   "id": "34d72f41-e7fe-49d5-8723-ae2a3aa3f13a",
   "metadata": {},
   "source": [
    "- After visualizing a couple of different histograms, scatter plots, etc. I wanted to double check the describe table for discrepancies/outliers.\n",
    "- This is something I should have paid attention to during the clean process because from the describe table there are pretty clear outliers in each numerical category.\n",
    "- Ultimately the first dozen iterations of the models will only be on title text and self text without any other kinds of input, but I am curious if the additional words within the selftext and title outliers will create additional noise or a potential signal for the classification of subreddits?"
   ]
  },
  {
   "cell_type": "code",
   "execution_count": 93,
   "id": "598fe944-0f1c-4fe1-a0a2-91535ad2179f",
   "metadata": {},
   "outputs": [
    {
     "data": {
      "text/html": [
       "<div>\n",
       "<style scoped>\n",
       "    .dataframe tbody tr th:only-of-type {\n",
       "        vertical-align: middle;\n",
       "    }\n",
       "\n",
       "    .dataframe tbody tr th {\n",
       "        vertical-align: top;\n",
       "    }\n",
       "\n",
       "    .dataframe thead th {\n",
       "        text-align: right;\n",
       "    }\n",
       "</style>\n",
       "<table border=\"1\" class=\"dataframe\">\n",
       "  <thead>\n",
       "    <tr style=\"text-align: right;\">\n",
       "      <th></th>\n",
       "      <th>title_length</th>\n",
       "      <th>title_word_count</th>\n",
       "    </tr>\n",
       "    <tr>\n",
       "      <th>subreddit</th>\n",
       "      <th></th>\n",
       "      <th></th>\n",
       "    </tr>\n",
       "  </thead>\n",
       "  <tbody>\n",
       "    <tr>\n",
       "      <th>Amd</th>\n",
       "      <td>49.780655</td>\n",
       "      <td>9.116317</td>\n",
       "    </tr>\n",
       "    <tr>\n",
       "      <th>nvidia</th>\n",
       "      <td>48.299110</td>\n",
       "      <td>8.831051</td>\n",
       "    </tr>\n",
       "  </tbody>\n",
       "</table>\n",
       "</div>"
      ],
      "text/plain": [
       "           title_length  title_word_count\n",
       "subreddit                                \n",
       "Amd           49.780655          9.116317\n",
       "nvidia        48.299110          8.831051"
      ]
     },
     "execution_count": 93,
     "metadata": {},
     "output_type": "execute_result"
    }
   ],
   "source": [
    "df_posts.groupby('subreddit')[['title_length', 'title_word_count']].mean()"
   ]
  },
  {
   "cell_type": "code",
   "execution_count": 92,
   "id": "c7d65b87-856d-4747-861f-0518ec0d492d",
   "metadata": {},
   "outputs": [
    {
     "data": {
      "text/html": [
       "<div>\n",
       "<style scoped>\n",
       "    .dataframe tbody tr th:only-of-type {\n",
       "        vertical-align: middle;\n",
       "    }\n",
       "\n",
       "    .dataframe tbody tr th {\n",
       "        vertical-align: top;\n",
       "    }\n",
       "\n",
       "    .dataframe thead th {\n",
       "        text-align: right;\n",
       "    }\n",
       "</style>\n",
       "<table border=\"1\" class=\"dataframe\">\n",
       "  <thead>\n",
       "    <tr style=\"text-align: right;\">\n",
       "      <th></th>\n",
       "      <th>selftext_length</th>\n",
       "      <th>selftext_word_count</th>\n",
       "    </tr>\n",
       "    <tr>\n",
       "      <th>subreddit</th>\n",
       "      <th></th>\n",
       "      <th></th>\n",
       "    </tr>\n",
       "  </thead>\n",
       "  <tbody>\n",
       "    <tr>\n",
       "      <th>Amd</th>\n",
       "      <td>481.189502</td>\n",
       "      <td>82.247223</td>\n",
       "    </tr>\n",
       "    <tr>\n",
       "      <th>nvidia</th>\n",
       "      <td>452.820178</td>\n",
       "      <td>78.129674</td>\n",
       "    </tr>\n",
       "  </tbody>\n",
       "</table>\n",
       "</div>"
      ],
      "text/plain": [
       "           selftext_length  selftext_word_count\n",
       "subreddit                                      \n",
       "Amd             481.189502            82.247223\n",
       "nvidia          452.820178            78.129674"
      ]
     },
     "execution_count": 92,
     "metadata": {},
     "output_type": "execute_result"
    }
   ],
   "source": [
    "df_posts.groupby('subreddit')[['selftext_length', 'selftext_word_count']].mean()"
   ]
  },
  {
   "cell_type": "markdown",
   "id": "af7918ff-94c7-4514-aea6-fdf3e25858a1",
   "metadata": {},
   "source": [
    "___\n",
    "## Model Version 2 EDA and Clean\n",
    "- For Version 2 we are going to examine outliers in posts as well as clean out:\n",
    "    - Punctuation\n",
    "    - Any posts with selftext_word_count length less than 10\n",
    "    - Any posts with selftext wordcount above 2500 as seen in the visualizations above\n",
    "- Additionally we are going to see if we can identify when posts contain references too:\n",
    "    - Intel GPU Models\n",
    "    - NVIDIA GPU Models\n",
    "    - AMD GPU Models\n",
    "    - Plot the results"
   ]
  },
  {
   "cell_type": "code",
   "execution_count": 8,
   "id": "a86238f6-c0d0-4a4b-b688-38b7209578fc",
   "metadata": {},
   "outputs": [
    {
     "data": {
      "text/html": [
       "<div>\n",
       "<style scoped>\n",
       "    .dataframe tbody tr th:only-of-type {\n",
       "        vertical-align: middle;\n",
       "    }\n",
       "\n",
       "    .dataframe tbody tr th {\n",
       "        vertical-align: top;\n",
       "    }\n",
       "\n",
       "    .dataframe thead th {\n",
       "        text-align: right;\n",
       "    }\n",
       "</style>\n",
       "<table border=\"1\" class=\"dataframe\">\n",
       "  <thead>\n",
       "    <tr style=\"text-align: right;\">\n",
       "      <th></th>\n",
       "      <th>num_comments</th>\n",
       "      <th>selftext_word_count</th>\n",
       "      <th>selftext_length</th>\n",
       "      <th>title_word_count</th>\n",
       "      <th>title_length</th>\n",
       "    </tr>\n",
       "  </thead>\n",
       "  <tbody>\n",
       "    <tr>\n",
       "      <th>count</th>\n",
       "      <td>195969.000000</td>\n",
       "      <td>195969.000000</td>\n",
       "      <td>195969.000000</td>\n",
       "      <td>195969.000000</td>\n",
       "      <td>195969.000000</td>\n",
       "    </tr>\n",
       "    <tr>\n",
       "      <th>mean</th>\n",
       "      <td>16.334364</td>\n",
       "      <td>80.652996</td>\n",
       "      <td>470.205507</td>\n",
       "      <td>9.005868</td>\n",
       "      <td>49.207033</td>\n",
       "    </tr>\n",
       "    <tr>\n",
       "      <th>std</th>\n",
       "      <td>68.494011</td>\n",
       "      <td>130.748887</td>\n",
       "      <td>835.166598</td>\n",
       "      <td>5.567995</td>\n",
       "      <td>29.655443</td>\n",
       "    </tr>\n",
       "    <tr>\n",
       "      <th>min</th>\n",
       "      <td>0.000000</td>\n",
       "      <td>0.000000</td>\n",
       "      <td>1.000000</td>\n",
       "      <td>1.000000</td>\n",
       "      <td>1.000000</td>\n",
       "    </tr>\n",
       "    <tr>\n",
       "      <th>25%</th>\n",
       "      <td>2.000000</td>\n",
       "      <td>13.000000</td>\n",
       "      <td>78.000000</td>\n",
       "      <td>5.000000</td>\n",
       "      <td>30.000000</td>\n",
       "    </tr>\n",
       "    <tr>\n",
       "      <th>50%</th>\n",
       "      <td>8.000000</td>\n",
       "      <td>50.000000</td>\n",
       "      <td>277.000000</td>\n",
       "      <td>8.000000</td>\n",
       "      <td>43.000000</td>\n",
       "    </tr>\n",
       "    <tr>\n",
       "      <th>75%</th>\n",
       "      <td>17.000000</td>\n",
       "      <td>100.000000</td>\n",
       "      <td>560.000000</td>\n",
       "      <td>11.000000</td>\n",
       "      <td>61.000000</td>\n",
       "    </tr>\n",
       "    <tr>\n",
       "      <th>max</th>\n",
       "      <td>18378.000000</td>\n",
       "      <td>6230.000000</td>\n",
       "      <td>39948.000000</td>\n",
       "      <td>68.000000</td>\n",
       "      <td>301.000000</td>\n",
       "    </tr>\n",
       "  </tbody>\n",
       "</table>\n",
       "</div>"
      ],
      "text/plain": [
       "        num_comments  selftext_word_count  selftext_length  title_word_count  \\\n",
       "count  195969.000000        195969.000000    195969.000000     195969.000000   \n",
       "mean       16.334364            80.652996       470.205507          9.005868   \n",
       "std        68.494011           130.748887       835.166598          5.567995   \n",
       "min         0.000000             0.000000         1.000000          1.000000   \n",
       "25%         2.000000            13.000000        78.000000          5.000000   \n",
       "50%         8.000000            50.000000       277.000000          8.000000   \n",
       "75%        17.000000           100.000000       560.000000         11.000000   \n",
       "max     18378.000000          6230.000000     39948.000000         68.000000   \n",
       "\n",
       "        title_length  \n",
       "count  195969.000000  \n",
       "mean       49.207033  \n",
       "std        29.655443  \n",
       "min         1.000000  \n",
       "25%        30.000000  \n",
       "50%        43.000000  \n",
       "75%        61.000000  \n",
       "max       301.000000  "
      ]
     },
     "execution_count": 8,
     "metadata": {},
     "output_type": "execute_result"
    }
   ],
   "source": [
    "df_posts.describe()"
   ]
  },
  {
   "cell_type": "code",
   "execution_count": 9,
   "id": "4beac740-4960-4ba5-b748-a5fbc5b99e91",
   "metadata": {},
   "outputs": [
    {
     "data": {
      "text/plain": [
       "(195969, 9)"
      ]
     },
     "execution_count": 9,
     "metadata": {},
     "output_type": "execute_result"
    }
   ],
   "source": [
    "df_posts.shape"
   ]
  },
  {
   "cell_type": "markdown",
   "id": "9de4c64f-0e18-43c4-accb-7767666160d2",
   "metadata": {},
   "source": [
    "---\n",
    "### Removing Selftext min and max outliers"
   ]
  },
  {
   "cell_type": "code",
   "execution_count": 12,
   "id": "b8ed8216-026b-4e94-aece-0535b9ae8aca",
   "metadata": {},
   "outputs": [],
   "source": [
    "# Remove all submissions that have a selftext word count greater than or equal to 2500\n",
    "df_posts = df_posts[df_posts['selftext_word_count'] < 2500]"
   ]
  },
  {
   "cell_type": "code",
   "execution_count": 13,
   "id": "cae679aa-8d05-4932-8a39-fc5298a4f224",
   "metadata": {},
   "outputs": [
    {
     "data": {
      "text/plain": [
       "(195933, 9)"
      ]
     },
     "execution_count": 13,
     "metadata": {},
     "output_type": "execute_result"
    }
   ],
   "source": [
    "df_posts.shape"
   ]
  },
  {
   "cell_type": "code",
   "execution_count": 22,
   "id": "a6d69f70-101d-4aac-ab2a-06c7ad2d01bf",
   "metadata": {},
   "outputs": [
    {
     "data": {
      "text/html": [
       "<div>\n",
       "<style scoped>\n",
       "    .dataframe tbody tr th:only-of-type {\n",
       "        vertical-align: middle;\n",
       "    }\n",
       "\n",
       "    .dataframe tbody tr th {\n",
       "        vertical-align: top;\n",
       "    }\n",
       "\n",
       "    .dataframe thead th {\n",
       "        text-align: right;\n",
       "    }\n",
       "</style>\n",
       "<table border=\"1\" class=\"dataframe\">\n",
       "  <thead>\n",
       "    <tr style=\"text-align: right;\">\n",
       "      <th></th>\n",
       "      <th>selftext_word_count</th>\n",
       "      <th>title_word_count</th>\n",
       "      <th>selftext_length</th>\n",
       "    </tr>\n",
       "  </thead>\n",
       "  <tbody>\n",
       "    <tr>\n",
       "      <th>count</th>\n",
       "      <td>195933.000000</td>\n",
       "      <td>195933.000000</td>\n",
       "      <td>195933.000000</td>\n",
       "    </tr>\n",
       "    <tr>\n",
       "      <th>mean</th>\n",
       "      <td>79.981167</td>\n",
       "      <td>9.006012</td>\n",
       "      <td>465.799819</td>\n",
       "    </tr>\n",
       "    <tr>\n",
       "      <th>std</th>\n",
       "      <td>120.260487</td>\n",
       "      <td>5.568254</td>\n",
       "      <td>763.898732</td>\n",
       "    </tr>\n",
       "    <tr>\n",
       "      <th>min</th>\n",
       "      <td>0.000000</td>\n",
       "      <td>1.000000</td>\n",
       "      <td>1.000000</td>\n",
       "    </tr>\n",
       "    <tr>\n",
       "      <th>25%</th>\n",
       "      <td>13.000000</td>\n",
       "      <td>5.000000</td>\n",
       "      <td>78.000000</td>\n",
       "    </tr>\n",
       "    <tr>\n",
       "      <th>50%</th>\n",
       "      <td>50.000000</td>\n",
       "      <td>8.000000</td>\n",
       "      <td>277.000000</td>\n",
       "    </tr>\n",
       "    <tr>\n",
       "      <th>75%</th>\n",
       "      <td>100.000000</td>\n",
       "      <td>11.000000</td>\n",
       "      <td>560.000000</td>\n",
       "    </tr>\n",
       "    <tr>\n",
       "      <th>max</th>\n",
       "      <td>2485.000000</td>\n",
       "      <td>68.000000</td>\n",
       "      <td>21373.000000</td>\n",
       "    </tr>\n",
       "  </tbody>\n",
       "</table>\n",
       "</div>"
      ],
      "text/plain": [
       "       selftext_word_count  title_word_count  selftext_length\n",
       "count        195933.000000     195933.000000    195933.000000\n",
       "mean             79.981167          9.006012       465.799819\n",
       "std             120.260487          5.568254       763.898732\n",
       "min               0.000000          1.000000         1.000000\n",
       "25%              13.000000          5.000000        78.000000\n",
       "50%              50.000000          8.000000       277.000000\n",
       "75%             100.000000         11.000000       560.000000\n",
       "max            2485.000000         68.000000     21373.000000"
      ]
     },
     "execution_count": 22,
     "metadata": {},
     "output_type": "execute_result"
    }
   ],
   "source": [
    "df_posts.loc[:,['selftext_word_count','title_word_count','selftext_length']].describe()"
   ]
  },
  {
   "cell_type": "markdown",
   "id": "0631f233-fba8-44f9-a85b-05f0f0327cd7",
   "metadata": {},
   "source": [
    "There are still reddit posts with an extreme amount of words/length, let's look to remove posts that are above the 95% mark"
   ]
  },
  {
   "cell_type": "code",
   "execution_count": 24,
   "id": "39d16b1c-8755-4099-811f-74e916b922a1",
   "metadata": {},
   "outputs": [],
   "source": [
    "q95 = df_posts['selftext_length'].quantile(0.95)"
   ]
  },
  {
   "cell_type": "code",
   "execution_count": 25,
   "id": "f04014c7-66f4-47b4-be2a-5df7b2efb617",
   "metadata": {},
   "outputs": [],
   "source": [
    "df_test = df_posts[df_posts['selftext_length'] <= q95]"
   ]
  },
  {
   "cell_type": "code",
   "execution_count": 27,
   "id": "ddff55d5-1bc2-43eb-a06d-7ce355cf349e",
   "metadata": {},
   "outputs": [
    {
     "data": {
      "text/html": [
       "<div>\n",
       "<style scoped>\n",
       "    .dataframe tbody tr th:only-of-type {\n",
       "        vertical-align: middle;\n",
       "    }\n",
       "\n",
       "    .dataframe tbody tr th {\n",
       "        vertical-align: top;\n",
       "    }\n",
       "\n",
       "    .dataframe thead th {\n",
       "        text-align: right;\n",
       "    }\n",
       "</style>\n",
       "<table border=\"1\" class=\"dataframe\">\n",
       "  <thead>\n",
       "    <tr style=\"text-align: right;\">\n",
       "      <th></th>\n",
       "      <th>selftext_word_count</th>\n",
       "      <th>title_word_count</th>\n",
       "      <th>selftext_length</th>\n",
       "    </tr>\n",
       "  </thead>\n",
       "  <tbody>\n",
       "    <tr>\n",
       "      <th>count</th>\n",
       "      <td>186145.000000</td>\n",
       "      <td>186145.000000</td>\n",
       "      <td>186145.000000</td>\n",
       "    </tr>\n",
       "    <tr>\n",
       "      <th>mean</th>\n",
       "      <td>60.429117</td>\n",
       "      <td>8.940955</td>\n",
       "      <td>339.513729</td>\n",
       "    </tr>\n",
       "    <tr>\n",
       "      <th>std</th>\n",
       "      <td>59.002369</td>\n",
       "      <td>5.557039</td>\n",
       "      <td>330.227529</td>\n",
       "    </tr>\n",
       "    <tr>\n",
       "      <th>min</th>\n",
       "      <td>0.000000</td>\n",
       "      <td>1.000000</td>\n",
       "      <td>1.000000</td>\n",
       "    </tr>\n",
       "    <tr>\n",
       "      <th>25%</th>\n",
       "      <td>10.000000</td>\n",
       "      <td>5.000000</td>\n",
       "      <td>63.000000</td>\n",
       "    </tr>\n",
       "    <tr>\n",
       "      <th>50%</th>\n",
       "      <td>46.000000</td>\n",
       "      <td>8.000000</td>\n",
       "      <td>256.000000</td>\n",
       "    </tr>\n",
       "    <tr>\n",
       "      <th>75%</th>\n",
       "      <td>90.000000</td>\n",
       "      <td>11.000000</td>\n",
       "      <td>501.000000</td>\n",
       "    </tr>\n",
       "    <tr>\n",
       "      <th>max</th>\n",
       "      <td>314.000000</td>\n",
       "      <td>68.000000</td>\n",
       "      <td>1506.000000</td>\n",
       "    </tr>\n",
       "  </tbody>\n",
       "</table>\n",
       "</div>"
      ],
      "text/plain": [
       "       selftext_word_count  title_word_count  selftext_length\n",
       "count        186145.000000     186145.000000    186145.000000\n",
       "mean             60.429117          8.940955       339.513729\n",
       "std              59.002369          5.557039       330.227529\n",
       "min               0.000000          1.000000         1.000000\n",
       "25%              10.000000          5.000000        63.000000\n",
       "50%              46.000000          8.000000       256.000000\n",
       "75%              90.000000         11.000000       501.000000\n",
       "max             314.000000         68.000000      1506.000000"
      ]
     },
     "execution_count": 27,
     "metadata": {},
     "output_type": "execute_result"
    }
   ],
   "source": [
    "df_test.loc[:,['selftext_word_count','title_word_count','selftext_length']].describe()"
   ]
  },
  {
   "cell_type": "code",
   "execution_count": 28,
   "id": "9a8f436d-7f82-430e-8625-29d5478dc088",
   "metadata": {},
   "outputs": [
    {
     "data": {
      "text/plain": [
       "9788"
      ]
     },
     "execution_count": 28,
     "metadata": {},
     "output_type": "execute_result"
    }
   ],
   "source": [
    "df_posts.shape[0]-df_test.shape[0]"
   ]
  },
  {
   "cell_type": "code",
   "execution_count": 29,
   "id": "408adf85-dc6e-4f5f-80e6-20d2f1bd9066",
   "metadata": {},
   "outputs": [
    {
     "data": {
      "text/plain": [
       "4.9955852255618"
      ]
     },
     "execution_count": 29,
     "metadata": {},
     "output_type": "execute_result"
    }
   ],
   "source": [
    "((df_posts.shape[0]-df_test.shape[0])/df_posts.shape[0])*100"
   ]
  },
  {
   "cell_type": "markdown",
   "id": "f2db2129-5831-406a-a5f5-8e0958f6b83d",
   "metadata": {},
   "source": [
    "- Removing observations above the 95th for selftext_length results in a loss of 9788 observations\n",
    "- That's only a 5 percent loss of observations, let's finalize that for version 2"
   ]
  },
  {
   "cell_type": "code",
   "execution_count": 30,
   "id": "e6d61a80-a817-4754-910f-7f0dd5990de3",
   "metadata": {},
   "outputs": [],
   "source": [
    "df_posts = df_posts[df_posts['selftext_length'] <= q95]"
   ]
  },
  {
   "cell_type": "code",
   "execution_count": 36,
   "id": "f2afb061-0feb-4685-8cbd-e7bcd7255589",
   "metadata": {},
   "outputs": [
    {
     "data": {
      "text/plain": [
       "(186145, 9)"
      ]
     },
     "execution_count": 36,
     "metadata": {},
     "output_type": "execute_result"
    }
   ],
   "source": [
    "df_posts.shape"
   ]
  },
  {
   "cell_type": "code",
   "execution_count": 31,
   "id": "ca02e94e-acde-45cd-bab4-49848f890f52",
   "metadata": {},
   "outputs": [
    {
     "data": {
      "text/html": [
       "<div>\n",
       "<style scoped>\n",
       "    .dataframe tbody tr th:only-of-type {\n",
       "        vertical-align: middle;\n",
       "    }\n",
       "\n",
       "    .dataframe tbody tr th {\n",
       "        vertical-align: top;\n",
       "    }\n",
       "\n",
       "    .dataframe thead th {\n",
       "        text-align: right;\n",
       "    }\n",
       "</style>\n",
       "<table border=\"1\" class=\"dataframe\">\n",
       "  <thead>\n",
       "    <tr style=\"text-align: right;\">\n",
       "      <th></th>\n",
       "      <th>selftext_word_count</th>\n",
       "      <th>title_word_count</th>\n",
       "      <th>selftext_length</th>\n",
       "    </tr>\n",
       "  </thead>\n",
       "  <tbody>\n",
       "    <tr>\n",
       "      <th>count</th>\n",
       "      <td>186145.000000</td>\n",
       "      <td>186145.000000</td>\n",
       "      <td>186145.000000</td>\n",
       "    </tr>\n",
       "    <tr>\n",
       "      <th>mean</th>\n",
       "      <td>60.429117</td>\n",
       "      <td>8.940955</td>\n",
       "      <td>339.513729</td>\n",
       "    </tr>\n",
       "    <tr>\n",
       "      <th>std</th>\n",
       "      <td>59.002369</td>\n",
       "      <td>5.557039</td>\n",
       "      <td>330.227529</td>\n",
       "    </tr>\n",
       "    <tr>\n",
       "      <th>min</th>\n",
       "      <td>0.000000</td>\n",
       "      <td>1.000000</td>\n",
       "      <td>1.000000</td>\n",
       "    </tr>\n",
       "    <tr>\n",
       "      <th>25%</th>\n",
       "      <td>10.000000</td>\n",
       "      <td>5.000000</td>\n",
       "      <td>63.000000</td>\n",
       "    </tr>\n",
       "    <tr>\n",
       "      <th>50%</th>\n",
       "      <td>46.000000</td>\n",
       "      <td>8.000000</td>\n",
       "      <td>256.000000</td>\n",
       "    </tr>\n",
       "    <tr>\n",
       "      <th>75%</th>\n",
       "      <td>90.000000</td>\n",
       "      <td>11.000000</td>\n",
       "      <td>501.000000</td>\n",
       "    </tr>\n",
       "    <tr>\n",
       "      <th>max</th>\n",
       "      <td>314.000000</td>\n",
       "      <td>68.000000</td>\n",
       "      <td>1506.000000</td>\n",
       "    </tr>\n",
       "  </tbody>\n",
       "</table>\n",
       "</div>"
      ],
      "text/plain": [
       "       selftext_word_count  title_word_count  selftext_length\n",
       "count        186145.000000     186145.000000    186145.000000\n",
       "mean             60.429117          8.940955       339.513729\n",
       "std              59.002369          5.557039       330.227529\n",
       "min               0.000000          1.000000         1.000000\n",
       "25%              10.000000          5.000000        63.000000\n",
       "50%              46.000000          8.000000       256.000000\n",
       "75%              90.000000         11.000000       501.000000\n",
       "max             314.000000         68.000000      1506.000000"
      ]
     },
     "execution_count": 31,
     "metadata": {},
     "output_type": "execute_result"
    }
   ],
   "source": [
    "df_test.loc[:,['selftext_word_count','title_word_count','selftext_length']].describe()"
   ]
  },
  {
   "cell_type": "code",
   "execution_count": 32,
   "id": "7890fabf-ac9c-4b8f-8e1d-714cdaafcaa2",
   "metadata": {},
   "outputs": [
    {
     "data": {
      "text/plain": [
       "9824"
      ]
     },
     "execution_count": 32,
     "metadata": {},
     "output_type": "execute_result"
    }
   ],
   "source": [
    "195969 - df_posts.shape[0]"
   ]
  },
  {
   "cell_type": "markdown",
   "id": "e69a364e-3181-4f5f-86c0-eb0a27c58509",
   "metadata": {},
   "source": [
    "### Removing Min Outliers of Selftext word count and length\n",
    "- Let's work on reducing outliers on the min side and then we can start cleaning punctuation from the data.\n",
    "- We'll need to keep track of the total observation difference between V1 and V2 when comparing model performance\n",
    "    - So far the total difference is 9824\n",
    "- In a similar fashion let's see the difference when we remove posts under the 5th percent for selftext_word_count to capture any potential posts with less than ~10 words\n",
    "    - 5%,10%, & 15% wasn't enough to remove posts with only 1 word, but it did remove posts with 0. Let's try to just remove posts with selftext_word_counts less than 10.\n",
    "    - Tried to remove selftext_word_count that were less than ten and it resulted in a reduction of ~47k observations which would make the two versions incomparable.\n",
    "- Let's try removing word counts = to 1 and see if that is more manageable\n",
    "    - There are 41k posts with 1 word in the selftext. Before removing let's check to see their contents and make the decision based on that."
   ]
  },
  {
   "cell_type": "code",
   "execution_count": 67,
   "id": "62b23ddf-1637-496d-9703-dc1e54349ff0",
   "metadata": {},
   "outputs": [
    {
     "data": {
      "text/plain": [
       "41904"
      ]
     },
     "execution_count": 67,
     "metadata": {},
     "output_type": "execute_result"
    }
   ],
   "source": [
    "df_posts.shape[0]-df_test.shape[0]"
   ]
  },
  {
   "cell_type": "code",
   "execution_count": 65,
   "id": "92707814-8ca9-4956-b9ac-3d92524689ef",
   "metadata": {},
   "outputs": [],
   "source": [
    "df_test = df_posts[df_posts['selftext_word_count'] > 1]"
   ]
  },
  {
   "cell_type": "code",
   "execution_count": 66,
   "id": "3bb77f1d-5eee-4a7c-adcb-cc9d8656ec4a",
   "metadata": {},
   "outputs": [
    {
     "data": {
      "text/plain": [
       "(144241, 9)"
      ]
     },
     "execution_count": 66,
     "metadata": {},
     "output_type": "execute_result"
    }
   ],
   "source": [
    "df_test.shape"
   ]
  },
  {
   "cell_type": "code",
   "execution_count": 59,
   "id": "e3216a05-8db9-4b7b-9915-58c314f8b83b",
   "metadata": {},
   "outputs": [
    {
     "data": {
      "text/html": [
       "<div>\n",
       "<style scoped>\n",
       "    .dataframe tbody tr th:only-of-type {\n",
       "        vertical-align: middle;\n",
       "    }\n",
       "\n",
       "    .dataframe tbody tr th {\n",
       "        vertical-align: top;\n",
       "    }\n",
       "\n",
       "    .dataframe thead th {\n",
       "        text-align: right;\n",
       "    }\n",
       "</style>\n",
       "<table border=\"1\" class=\"dataframe\">\n",
       "  <thead>\n",
       "    <tr style=\"text-align: right;\">\n",
       "      <th></th>\n",
       "      <th>selftext_word_count</th>\n",
       "      <th>title_word_count</th>\n",
       "      <th>selftext_length</th>\n",
       "    </tr>\n",
       "  </thead>\n",
       "  <tbody>\n",
       "    <tr>\n",
       "      <th>count</th>\n",
       "      <td>139107.000000</td>\n",
       "      <td>139107.000000</td>\n",
       "      <td>139107.000000</td>\n",
       "    </tr>\n",
       "    <tr>\n",
       "      <th>mean</th>\n",
       "      <td>80.326396</td>\n",
       "      <td>8.490694</td>\n",
       "      <td>448.551525</td>\n",
       "    </tr>\n",
       "    <tr>\n",
       "      <th>std</th>\n",
       "      <td>55.592542</td>\n",
       "      <td>4.905882</td>\n",
       "      <td>313.680817</td>\n",
       "    </tr>\n",
       "    <tr>\n",
       "      <th>min</th>\n",
       "      <td>11.000000</td>\n",
       "      <td>1.000000</td>\n",
       "      <td>38.000000</td>\n",
       "    </tr>\n",
       "    <tr>\n",
       "      <th>25%</th>\n",
       "      <td>38.000000</td>\n",
       "      <td>5.000000</td>\n",
       "      <td>211.000000</td>\n",
       "    </tr>\n",
       "    <tr>\n",
       "      <th>50%</th>\n",
       "      <td>65.000000</td>\n",
       "      <td>7.000000</td>\n",
       "      <td>361.000000</td>\n",
       "    </tr>\n",
       "    <tr>\n",
       "      <th>75%</th>\n",
       "      <td>108.000000</td>\n",
       "      <td>11.000000</td>\n",
       "      <td>603.000000</td>\n",
       "    </tr>\n",
       "    <tr>\n",
       "      <th>max</th>\n",
       "      <td>314.000000</td>\n",
       "      <td>68.000000</td>\n",
       "      <td>1506.000000</td>\n",
       "    </tr>\n",
       "  </tbody>\n",
       "</table>\n",
       "</div>"
      ],
      "text/plain": [
       "       selftext_word_count  title_word_count  selftext_length\n",
       "count        139107.000000     139107.000000    139107.000000\n",
       "mean             80.326396          8.490694       448.551525\n",
       "std              55.592542          4.905882       313.680817\n",
       "min              11.000000          1.000000        38.000000\n",
       "25%              38.000000          5.000000       211.000000\n",
       "50%              65.000000          7.000000       361.000000\n",
       "75%             108.000000         11.000000       603.000000\n",
       "max             314.000000         68.000000      1506.000000"
      ]
     },
     "execution_count": 59,
     "metadata": {},
     "output_type": "execute_result"
    }
   ],
   "source": [
    "df_test.loc[:,['selftext_word_count','title_word_count','selftext_length']].describe()"
   ]
  },
  {
   "cell_type": "code",
   "execution_count": 68,
   "id": "fb0fea93-1490-4fe5-bc5c-ec107a5ea70f",
   "metadata": {},
   "outputs": [],
   "source": [
    "one_word_posts = df_posts[df_posts['selftext_word_count'] == 1]"
   ]
  },
  {
   "cell_type": "code",
   "execution_count": 69,
   "id": "703297bc-cc51-470b-a6db-bac5ecefac6a",
   "metadata": {},
   "outputs": [
    {
     "data": {
      "text/html": [
       "<div>\n",
       "<style scoped>\n",
       "    .dataframe tbody tr th:only-of-type {\n",
       "        vertical-align: middle;\n",
       "    }\n",
       "\n",
       "    .dataframe tbody tr th {\n",
       "        vertical-align: top;\n",
       "    }\n",
       "\n",
       "    .dataframe thead th {\n",
       "        text-align: right;\n",
       "    }\n",
       "</style>\n",
       "<table border=\"1\" class=\"dataframe\">\n",
       "  <thead>\n",
       "    <tr style=\"text-align: right;\">\n",
       "      <th></th>\n",
       "      <th>subreddit</th>\n",
       "      <th>selftext</th>\n",
       "      <th>title</th>\n",
       "      <th>author</th>\n",
       "      <th>num_comments</th>\n",
       "      <th>selftext_word_count</th>\n",
       "      <th>selftext_length</th>\n",
       "      <th>title_word_count</th>\n",
       "      <th>title_length</th>\n",
       "    </tr>\n",
       "  </thead>\n",
       "  <tbody>\n",
       "    <tr>\n",
       "      <th>257</th>\n",
       "      <td>nvidia</td>\n",
       "      <td>SHALOM</td>\n",
       "      <td>mods suck</td>\n",
       "      <td>BabyAstronaut4</td>\n",
       "      <td>0.0</td>\n",
       "      <td>1</td>\n",
       "      <td>6</td>\n",
       "      <td>2</td>\n",
       "      <td>9</td>\n",
       "    </tr>\n",
       "    <tr>\n",
       "      <th>303</th>\n",
       "      <td>nvidia</td>\n",
       "      <td>[https://www.prnewswire.com/news-releases/bria...</td>\n",
       "      <td>BRIA to Offer Its Comprehensive, Responsibly S...</td>\n",
       "      <td>theaiguru</td>\n",
       "      <td>0.0</td>\n",
       "      <td>1</td>\n",
       "      <td>376</td>\n",
       "      <td>18</td>\n",
       "      <td>132</td>\n",
       "    </tr>\n",
       "    <tr>\n",
       "      <th>394</th>\n",
       "      <td>nvidia</td>\n",
       "      <td>Halp!</td>\n",
       "      <td>Will my 4090 fit in a Corsair 4000d case? Will...</td>\n",
       "      <td>Hillbillyheist</td>\n",
       "      <td>0.0</td>\n",
       "      <td>1</td>\n",
       "      <td>5</td>\n",
       "      <td>14</td>\n",
       "      <td>65</td>\n",
       "    </tr>\n",
       "    <tr>\n",
       "      <th>677</th>\n",
       "      <td>nvidia</td>\n",
       "      <td>Title</td>\n",
       "      <td>Is evga the only graphics card company that ha...</td>\n",
       "      <td>zohaib1212121</td>\n",
       "      <td>0.0</td>\n",
       "      <td>1</td>\n",
       "      <td>5</td>\n",
       "      <td>15</td>\n",
       "      <td>92</td>\n",
       "    </tr>\n",
       "    <tr>\n",
       "      <th>833</th>\n",
       "      <td>nvidia</td>\n",
       "      <td>Problem</td>\n",
       "      <td>Hello everyone, I have a pany 3080 graphics ca...</td>\n",
       "      <td>Conscious_Monk_1925</td>\n",
       "      <td>0.0</td>\n",
       "      <td>1</td>\n",
       "      <td>7</td>\n",
       "      <td>51</td>\n",
       "      <td>271</td>\n",
       "    </tr>\n",
       "  </tbody>\n",
       "</table>\n",
       "</div>"
      ],
      "text/plain": [
       "    subreddit                                           selftext  \\\n",
       "257    nvidia                                             SHALOM   \n",
       "303    nvidia  [https://www.prnewswire.com/news-releases/bria...   \n",
       "394    nvidia                                              Halp!   \n",
       "677    nvidia                                              Title   \n",
       "833    nvidia                                            Problem   \n",
       "\n",
       "                                                 title               author  \\\n",
       "257                                          mods suck       BabyAstronaut4   \n",
       "303  BRIA to Offer Its Comprehensive, Responsibly S...            theaiguru   \n",
       "394  Will my 4090 fit in a Corsair 4000d case? Will...       Hillbillyheist   \n",
       "677  Is evga the only graphics card company that ha...        zohaib1212121   \n",
       "833  Hello everyone, I have a pany 3080 graphics ca...  Conscious_Monk_1925   \n",
       "\n",
       "     num_comments  selftext_word_count  selftext_length  title_word_count  \\\n",
       "257           0.0                    1                6                 2   \n",
       "303           0.0                    1              376                18   \n",
       "394           0.0                    1                5                14   \n",
       "677           0.0                    1                5                15   \n",
       "833           0.0                    1                7                51   \n",
       "\n",
       "     title_length  \n",
       "257             9  \n",
       "303           132  \n",
       "394            65  \n",
       "677            92  \n",
       "833           271  "
      ]
     },
     "execution_count": 69,
     "metadata": {},
     "output_type": "execute_result"
    }
   ],
   "source": [
    "one_word_posts.head()"
   ]
  },
  {
   "cell_type": "markdown",
   "id": "8e5d20d7-7712-442d-8a1c-e3637d2d755d",
   "metadata": {},
   "source": [
    "- There seems to be an interesting mix of one word selftexts posts just from the above 5 rows\n",
    "- Outside of the first row, the community of NVIDIA seems to get more value out of the title field than the self text field, primarily introducing the post or asking questions in the title.\n",
    "- Let me check the average title length for both communities before making my decision."
   ]
  },
  {
   "cell_type": "code",
   "execution_count": 77,
   "id": "7f186383-e48b-4519-a45d-94c17ce98b7f",
   "metadata": {},
   "outputs": [
    {
     "data": {
      "text/html": [
       "<div>\n",
       "<style scoped>\n",
       "    .dataframe tbody tr th:only-of-type {\n",
       "        vertical-align: middle;\n",
       "    }\n",
       "\n",
       "    .dataframe tbody tr th {\n",
       "        vertical-align: top;\n",
       "    }\n",
       "\n",
       "    .dataframe thead th {\n",
       "        text-align: right;\n",
       "    }\n",
       "</style>\n",
       "<table border=\"1\" class=\"dataframe\">\n",
       "  <thead>\n",
       "    <tr style=\"text-align: right;\">\n",
       "      <th></th>\n",
       "      <th>num_comments</th>\n",
       "      <th>selftext_word_count</th>\n",
       "      <th>selftext_length</th>\n",
       "      <th>title_word_count</th>\n",
       "      <th>title_length</th>\n",
       "    </tr>\n",
       "  </thead>\n",
       "  <tbody>\n",
       "    <tr>\n",
       "      <th>count</th>\n",
       "      <td>26240.000000</td>\n",
       "      <td>26240.0</td>\n",
       "      <td>26240.000000</td>\n",
       "      <td>26240.000000</td>\n",
       "      <td>26240.000000</td>\n",
       "    </tr>\n",
       "    <tr>\n",
       "      <th>mean</th>\n",
       "      <td>7.130602</td>\n",
       "      <td>1.0</td>\n",
       "      <td>11.046341</td>\n",
       "      <td>10.459337</td>\n",
       "      <td>57.114596</td>\n",
       "    </tr>\n",
       "    <tr>\n",
       "      <th>std</th>\n",
       "      <td>23.073200</td>\n",
       "      <td>0.0</td>\n",
       "      <td>20.391953</td>\n",
       "      <td>7.130538</td>\n",
       "      <td>38.083990</td>\n",
       "    </tr>\n",
       "    <tr>\n",
       "      <th>min</th>\n",
       "      <td>0.000000</td>\n",
       "      <td>1.0</td>\n",
       "      <td>1.000000</td>\n",
       "      <td>1.000000</td>\n",
       "      <td>1.000000</td>\n",
       "    </tr>\n",
       "    <tr>\n",
       "      <th>25%</th>\n",
       "      <td>0.000000</td>\n",
       "      <td>1.0</td>\n",
       "      <td>9.000000</td>\n",
       "      <td>6.000000</td>\n",
       "      <td>32.000000</td>\n",
       "    </tr>\n",
       "    <tr>\n",
       "      <th>50%</th>\n",
       "      <td>2.000000</td>\n",
       "      <td>1.0</td>\n",
       "      <td>9.000000</td>\n",
       "      <td>9.000000</td>\n",
       "      <td>49.000000</td>\n",
       "    </tr>\n",
       "    <tr>\n",
       "      <th>75%</th>\n",
       "      <td>7.000000</td>\n",
       "      <td>1.0</td>\n",
       "      <td>9.000000</td>\n",
       "      <td>13.000000</td>\n",
       "      <td>71.000000</td>\n",
       "    </tr>\n",
       "    <tr>\n",
       "      <th>max</th>\n",
       "      <td>1270.000000</td>\n",
       "      <td>1.0</td>\n",
       "      <td>903.000000</td>\n",
       "      <td>68.000000</td>\n",
       "      <td>300.000000</td>\n",
       "    </tr>\n",
       "  </tbody>\n",
       "</table>\n",
       "</div>"
      ],
      "text/plain": [
       "       num_comments  selftext_word_count  selftext_length  title_word_count  \\\n",
       "count  26240.000000              26240.0     26240.000000      26240.000000   \n",
       "mean       7.130602                  1.0        11.046341         10.459337   \n",
       "std       23.073200                  0.0        20.391953          7.130538   \n",
       "min        0.000000                  1.0         1.000000          1.000000   \n",
       "25%        0.000000                  1.0         9.000000          6.000000   \n",
       "50%        2.000000                  1.0         9.000000          9.000000   \n",
       "75%        7.000000                  1.0         9.000000         13.000000   \n",
       "max     1270.000000                  1.0       903.000000         68.000000   \n",
       "\n",
       "       title_length  \n",
       "count  26240.000000  \n",
       "mean      57.114596  \n",
       "std       38.083990  \n",
       "min        1.000000  \n",
       "25%       32.000000  \n",
       "50%       49.000000  \n",
       "75%       71.000000  \n",
       "max      300.000000  "
      ]
     },
     "execution_count": 77,
     "metadata": {},
     "output_type": "execute_result"
    }
   ],
   "source": [
    "df_posts[(df_posts['selftext_word_count'] == 1) & (df_posts['subreddit'] == 'Amd')].describe()\n",
    "\n"
   ]
  },
  {
   "cell_type": "code",
   "execution_count": 79,
   "id": "763e61ef-6350-4aac-98fa-6c3b8bfffe24",
   "metadata": {},
   "outputs": [
    {
     "data": {
      "text/html": [
       "<div>\n",
       "<style scoped>\n",
       "    .dataframe tbody tr th:only-of-type {\n",
       "        vertical-align: middle;\n",
       "    }\n",
       "\n",
       "    .dataframe tbody tr th {\n",
       "        vertical-align: top;\n",
       "    }\n",
       "\n",
       "    .dataframe thead th {\n",
       "        text-align: right;\n",
       "    }\n",
       "</style>\n",
       "<table border=\"1\" class=\"dataframe\">\n",
       "  <thead>\n",
       "    <tr style=\"text-align: right;\">\n",
       "      <th></th>\n",
       "      <th>num_comments</th>\n",
       "      <th>selftext_word_count</th>\n",
       "      <th>selftext_length</th>\n",
       "      <th>title_word_count</th>\n",
       "      <th>title_length</th>\n",
       "    </tr>\n",
       "  </thead>\n",
       "  <tbody>\n",
       "    <tr>\n",
       "      <th>count</th>\n",
       "      <td>15659.000000</td>\n",
       "      <td>15659.0</td>\n",
       "      <td>15659.000000</td>\n",
       "      <td>15659.000000</td>\n",
       "      <td>15659.000000</td>\n",
       "    </tr>\n",
       "    <tr>\n",
       "      <th>mean</th>\n",
       "      <td>5.013155</td>\n",
       "      <td>1.0</td>\n",
       "      <td>9.947762</td>\n",
       "      <td>9.982310</td>\n",
       "      <td>54.628073</td>\n",
       "    </tr>\n",
       "    <tr>\n",
       "      <th>std</th>\n",
       "      <td>16.590685</td>\n",
       "      <td>0.0</td>\n",
       "      <td>14.636663</td>\n",
       "      <td>6.812434</td>\n",
       "      <td>36.195542</td>\n",
       "    </tr>\n",
       "    <tr>\n",
       "      <th>min</th>\n",
       "      <td>0.000000</td>\n",
       "      <td>1.0</td>\n",
       "      <td>1.000000</td>\n",
       "      <td>1.000000</td>\n",
       "      <td>1.000000</td>\n",
       "    </tr>\n",
       "    <tr>\n",
       "      <th>25%</th>\n",
       "      <td>0.000000</td>\n",
       "      <td>1.0</td>\n",
       "      <td>9.000000</td>\n",
       "      <td>6.000000</td>\n",
       "      <td>31.000000</td>\n",
       "    </tr>\n",
       "    <tr>\n",
       "      <th>50%</th>\n",
       "      <td>1.000000</td>\n",
       "      <td>1.0</td>\n",
       "      <td>9.000000</td>\n",
       "      <td>8.000000</td>\n",
       "      <td>47.000000</td>\n",
       "    </tr>\n",
       "    <tr>\n",
       "      <th>75%</th>\n",
       "      <td>5.000000</td>\n",
       "      <td>1.0</td>\n",
       "      <td>9.000000</td>\n",
       "      <td>12.000000</td>\n",
       "      <td>68.000000</td>\n",
       "    </tr>\n",
       "    <tr>\n",
       "      <th>max</th>\n",
       "      <td>560.000000</td>\n",
       "      <td>1.0</td>\n",
       "      <td>811.000000</td>\n",
       "      <td>64.000000</td>\n",
       "      <td>300.000000</td>\n",
       "    </tr>\n",
       "  </tbody>\n",
       "</table>\n",
       "</div>"
      ],
      "text/plain": [
       "       num_comments  selftext_word_count  selftext_length  title_word_count  \\\n",
       "count  15659.000000              15659.0     15659.000000      15659.000000   \n",
       "mean       5.013155                  1.0         9.947762          9.982310   \n",
       "std       16.590685                  0.0        14.636663          6.812434   \n",
       "min        0.000000                  1.0         1.000000          1.000000   \n",
       "25%        0.000000                  1.0         9.000000          6.000000   \n",
       "50%        1.000000                  1.0         9.000000          8.000000   \n",
       "75%        5.000000                  1.0         9.000000         12.000000   \n",
       "max      560.000000                  1.0       811.000000         64.000000   \n",
       "\n",
       "       title_length  \n",
       "count  15659.000000  \n",
       "mean      54.628073  \n",
       "std       36.195542  \n",
       "min        1.000000  \n",
       "25%       31.000000  \n",
       "50%       47.000000  \n",
       "75%       68.000000  \n",
       "max      300.000000  "
      ]
     },
     "execution_count": 79,
     "metadata": {},
     "output_type": "execute_result"
    }
   ],
   "source": [
    "df_posts[(df_posts['selftext_word_count'] == 1) & (df_posts['subreddit'] == 'nvidia')].describe()\n"
   ]
  },
  {
   "cell_type": "markdown",
   "id": "3c1bb6fa-b203-4345-b003-a30547ddb9dd",
   "metadata": {},
   "source": [
    "- Both communities follow a similar pattern in which 1 word selftext generally indicates a mean title word count of ~10\n",
    "- I am going to make the decision to keep 1 word selftext posts"
   ]
  },
  {
   "cell_type": "code",
   "execution_count": 80,
   "id": "e47722ca-b183-4617-b3b8-caafa6add519",
   "metadata": {},
   "outputs": [
    {
     "data": {
      "text/plain": [
       "(186145, 9)"
      ]
     },
     "execution_count": 80,
     "metadata": {},
     "output_type": "execute_result"
    }
   ],
   "source": [
    "df_posts.shape"
   ]
  },
  {
   "cell_type": "markdown",
   "id": "7fc2d674-a9bf-4061-a397-8bb4b3f9ed26",
   "metadata": {},
   "source": [
    "---\n",
    "### Removing Punctuation and Links"
   ]
  },
  {
   "cell_type": "markdown",
   "id": "5ce391e5-16bc-4900-99dc-1ebbdaf90217",
   "metadata": {},
   "source": [
    "Removing URLS with Regex\n",
    "- The url_pattern regular expression matches URLs that start with 'http' or 'www', and includes any non-whitespace characters after that until the next whitespace character or the end of the string.\n",
    "- This isn't a catch all expression but should capture most URLS"
   ]
  },
  {
   "cell_type": "code",
   "execution_count": 82,
   "id": "1587f0c7-47d4-4209-a802-4625b7fd0e40",
   "metadata": {},
   "outputs": [],
   "source": [
    "url_pattern = re.compile(r'http\\S+|www\\S+')\n",
    "df_posts['selftext'] = df_posts['selftext'].apply(lambda x: url_pattern.sub('', x))"
   ]
  },
  {
   "cell_type": "markdown",
   "id": "e2816918-2f61-4992-b434-6c699d627967",
   "metadata": {},
   "source": [
    "Removing Punctuation with Regex\n",
    "-  The lambda function takes a string of text and replaces any punctuation character that matches the punctuation_pattern regular expression with an empty string resulting in spaces instead of punctuation"
   ]
  },
  {
   "cell_type": "code",
   "execution_count": 83,
   "id": "e105c63a-5d19-492d-abcd-c9f8ad36a310",
   "metadata": {},
   "outputs": [],
   "source": [
    "punctuation_pattern = re.compile(r'[^\\w\\s]+')\n",
    "df_posts['selftext'] = df_posts['selftext'].apply(lambda x: punctuation_pattern.sub('', x))\n",
    "df_posts['title'] = df_posts['title'].apply(lambda x: punctuation_pattern.sub('', x))"
   ]
  },
  {
   "cell_type": "markdown",
   "id": "ff45fa56-f6dd-4c03-82cc-c2822b3db147",
   "metadata": {},
   "source": [
    "The next is a bit of an edge case potentially, but when modeling and looking over tokenized data, saw some references to phrases like \"[deleted]\", let's look to use regex to remove those as well"
   ]
  },
  {
   "cell_type": "code",
   "execution_count": 86,
   "id": "48ae5c23-0bfa-48b1-a6eb-824745e484d3",
   "metadata": {},
   "outputs": [],
   "source": [
    "deleted_pattern = re.compile(r'\\[deleted\\]')\n",
    "df_posts['selftext'] = df_posts['selftext'].apply(lambda x: deleted_pattern.sub('', x))\n",
    "df_posts['title'] = df_posts['title'].apply(lambda x: deleted_pattern.sub('', x))"
   ]
  },
  {
   "cell_type": "markdown",
   "id": "7910e9e9-6e6b-4127-9d9a-3d67035231df",
   "metadata": {},
   "source": [
    "---\n",
    "### Finding GPU Model Identifiers in Reddit submissions using regex"
   ]
  },
  {
   "cell_type": "markdown",
   "id": "9001470e-02ad-4ece-97ff-65a7277a25b7",
   "metadata": {},
   "source": [
    "- Intel's GPU pattern is longer because it is much more specific to the individual models of the A750, A770 8GB, and A770 16 GB\n",
    "- Luckily NVIDIA and AMD follow similar patters of:\n",
    "    - NVIDIA or AMD\n",
    "    - a whitespace\n",
    "    - 1 or more word characters like GTX, GeForce, Radeon, RX etc.\n",
    "    - a whitespace\n",
    "    - Finishing with 1 or more non whitespace characters which will be either model numbers or further text\n",
    "- I don't believe, like the url patter, that these are catch-alls, but it should give us a good indicator of rows that include one, or more models numbers\n",
    "    - Because they arent catch-alls, instead of counting their appearance, let's create a new column for each GPU manufacturer and set a boolean value if they are present or not\n",
    "    - before creating, let's create a column that is the combination of both the title and selftext columns for ease of search"
   ]
  },
  {
   "cell_type": "code",
   "execution_count": 90,
   "id": "65e7f107-52da-4323-836d-119b71d0addc",
   "metadata": {},
   "outputs": [],
   "source": [
    "intel_gpu_pattern = re.compile(r'\\bIntel\\s+A(?:750|770\\s+8GB|770\\s+16GB)\\b')"
   ]
  },
  {
   "cell_type": "code",
   "execution_count": 91,
   "id": "b496d5c1-a64b-40c3-9b64-e96b6d8d3e73",
   "metadata": {},
   "outputs": [],
   "source": [
    "nvidia_gpu_pattern = re.compile(r'NVIDIA\\s\\w+\\s\\S+')"
   ]
  },
  {
   "cell_type": "code",
   "execution_count": 92,
   "id": "9f461491-e162-4403-9b44-77b6acaf7b09",
   "metadata": {},
   "outputs": [],
   "source": [
    "amd_gpu_pattern = re.compile(r'AMD\\s\\w+\\s\\S+')"
   ]
  },
  {
   "cell_type": "code",
   "execution_count": 93,
   "id": "35d8ccd9-8ed6-4e2c-a58a-ad135be96d0a",
   "metadata": {},
   "outputs": [],
   "source": [
    "df_posts['text'] = df_posts['title'] + \" \" + df_posts['selftext']"
   ]
  },
  {
   "cell_type": "code",
   "execution_count": 94,
   "id": "5467b2b5-3e9e-4662-9d5c-3117d58021b3",
   "metadata": {},
   "outputs": [],
   "source": [
    "df_posts['intel_gpu'] = df_posts['text'].str.contains(intel_gpu_pattern)\n",
    "df_posts['nvidia_gpu'] = df_posts['text'].str.contains(nvidia_gpu_pattern)\n",
    "df_posts['amd_gpu'] = df_posts['text'].str.contains(amd_gpu_pattern)"
   ]
  },
  {
   "cell_type": "code",
   "execution_count": 95,
   "id": "f8c1ad1b-b957-4e1c-9cbb-078bb74d5d5e",
   "metadata": {},
   "outputs": [
    {
     "data": {
      "text/html": [
       "<div>\n",
       "<style scoped>\n",
       "    .dataframe tbody tr th:only-of-type {\n",
       "        vertical-align: middle;\n",
       "    }\n",
       "\n",
       "    .dataframe tbody tr th {\n",
       "        vertical-align: top;\n",
       "    }\n",
       "\n",
       "    .dataframe thead th {\n",
       "        text-align: right;\n",
       "    }\n",
       "</style>\n",
       "<table border=\"1\" class=\"dataframe\">\n",
       "  <thead>\n",
       "    <tr style=\"text-align: right;\">\n",
       "      <th></th>\n",
       "      <th>subreddit</th>\n",
       "      <th>selftext</th>\n",
       "      <th>title</th>\n",
       "      <th>author</th>\n",
       "      <th>num_comments</th>\n",
       "      <th>selftext_word_count</th>\n",
       "      <th>selftext_length</th>\n",
       "      <th>title_word_count</th>\n",
       "      <th>title_length</th>\n",
       "      <th>text</th>\n",
       "      <th>intel_gpu</th>\n",
       "      <th>nvidia_gpu</th>\n",
       "      <th>amd_gpu</th>\n",
       "    </tr>\n",
       "  </thead>\n",
       "  <tbody>\n",
       "    <tr>\n",
       "      <th>1</th>\n",
       "      <td>nvidia</td>\n",
       "      <td>Which should I use and are they both safe Prof...</td>\n",
       "      <td>NvidiaProfileInspector or NvidiaInspector</td>\n",
       "      <td>DeepSpaceHorizon</td>\n",
       "      <td>0.0</td>\n",
       "      <td>14</td>\n",
       "      <td>179</td>\n",
       "      <td>3</td>\n",
       "      <td>42</td>\n",
       "      <td>NvidiaProfileInspector or NvidiaInspector Whic...</td>\n",
       "      <td>False</td>\n",
       "      <td>False</td>\n",
       "      <td>False</td>\n",
       "    </tr>\n",
       "    <tr>\n",
       "      <th>2</th>\n",
       "      <td>nvidia</td>\n",
       "      <td>before march fifth my vids looked like this \\n...</td>\n",
       "      <td>shadowplay is wierdpease help me</td>\n",
       "      <td>bob6572</td>\n",
       "      <td>0.0</td>\n",
       "      <td>102</td>\n",
       "      <td>677</td>\n",
       "      <td>5</td>\n",
       "      <td>32</td>\n",
       "      <td>shadowplay is wierdpease help me before march ...</td>\n",
       "      <td>False</td>\n",
       "      <td>False</td>\n",
       "      <td>False</td>\n",
       "    </tr>\n",
       "    <tr>\n",
       "      <th>4</th>\n",
       "      <td>nvidia</td>\n",
       "      <td>CPU Intel Core i78700 320GHz\\nRAM 16GB\\nGPU NV...</td>\n",
       "      <td>Nvidia Gefore GTX 1060 6gb replacement options</td>\n",
       "      <td>shukii89</td>\n",
       "      <td>0.0</td>\n",
       "      <td>155</td>\n",
       "      <td>775</td>\n",
       "      <td>7</td>\n",
       "      <td>47</td>\n",
       "      <td>Nvidia Gefore GTX 1060 6gb replacement options...</td>\n",
       "      <td>False</td>\n",
       "      <td>True</td>\n",
       "      <td>False</td>\n",
       "    </tr>\n",
       "    <tr>\n",
       "      <th>5</th>\n",
       "      <td>nvidia</td>\n",
       "      <td>I have an MSI Venus 2X RTX 3060 Card and Ive b...</td>\n",
       "      <td>Did latest driver update break features like R...</td>\n",
       "      <td>cr6sxwastaken</td>\n",
       "      <td>0.0</td>\n",
       "      <td>82</td>\n",
       "      <td>417</td>\n",
       "      <td>11</td>\n",
       "      <td>71</td>\n",
       "      <td>Did latest driver update break features like R...</td>\n",
       "      <td>False</td>\n",
       "      <td>False</td>\n",
       "      <td>False</td>\n",
       "    </tr>\n",
       "    <tr>\n",
       "      <th>6</th>\n",
       "      <td>nvidia</td>\n",
       "      <td>Hi \\n\\nI built my PC last May and no problem s...</td>\n",
       "      <td>Msi Suprim 3080 ti downclock itself by 250mhz ...</td>\n",
       "      <td>Kooky-Introduction70</td>\n",
       "      <td>0.0</td>\n",
       "      <td>178</td>\n",
       "      <td>980</td>\n",
       "      <td>9</td>\n",
       "      <td>54</td>\n",
       "      <td>Msi Suprim 3080 ti downclock itself by 250mhz ...</td>\n",
       "      <td>False</td>\n",
       "      <td>False</td>\n",
       "      <td>False</td>\n",
       "    </tr>\n",
       "  </tbody>\n",
       "</table>\n",
       "</div>"
      ],
      "text/plain": [
       "  subreddit                                           selftext  \\\n",
       "1    nvidia  Which should I use and are they both safe Prof...   \n",
       "2    nvidia  before march fifth my vids looked like this \\n...   \n",
       "4    nvidia  CPU Intel Core i78700 320GHz\\nRAM 16GB\\nGPU NV...   \n",
       "5    nvidia  I have an MSI Venus 2X RTX 3060 Card and Ive b...   \n",
       "6    nvidia  Hi \\n\\nI built my PC last May and no problem s...   \n",
       "\n",
       "                                               title                author  \\\n",
       "1          NvidiaProfileInspector or NvidiaInspector      DeepSpaceHorizon   \n",
       "2                   shadowplay is wierdpease help me               bob6572   \n",
       "4     Nvidia Gefore GTX 1060 6gb replacement options              shukii89   \n",
       "5  Did latest driver update break features like R...         cr6sxwastaken   \n",
       "6  Msi Suprim 3080 ti downclock itself by 250mhz ...  Kooky-Introduction70   \n",
       "\n",
       "   num_comments  selftext_word_count  selftext_length  title_word_count  \\\n",
       "1           0.0                   14              179                 3   \n",
       "2           0.0                  102              677                 5   \n",
       "4           0.0                  155              775                 7   \n",
       "5           0.0                   82              417                11   \n",
       "6           0.0                  178              980                 9   \n",
       "\n",
       "   title_length                                               text  intel_gpu  \\\n",
       "1            42  NvidiaProfileInspector or NvidiaInspector Whic...      False   \n",
       "2            32  shadowplay is wierdpease help me before march ...      False   \n",
       "4            47  Nvidia Gefore GTX 1060 6gb replacement options...      False   \n",
       "5            71  Did latest driver update break features like R...      False   \n",
       "6            54  Msi Suprim 3080 ti downclock itself by 250mhz ...      False   \n",
       "\n",
       "   nvidia_gpu  amd_gpu  \n",
       "1       False    False  \n",
       "2       False    False  \n",
       "4        True    False  \n",
       "5       False    False  \n",
       "6       False    False  "
      ]
     },
     "execution_count": 95,
     "metadata": {},
     "output_type": "execute_result"
    }
   ],
   "source": [
    "df_posts.head()"
   ]
  },
  {
   "cell_type": "markdown",
   "id": "17ed7d7a-1ba1-4a23-b612-5d4251ef7fbe",
   "metadata": {},
   "source": [
    "### Let's Visualize!"
   ]
  },
  {
   "cell_type": "code",
   "execution_count": 98,
   "id": "20b50363-fc0e-47bd-bc45-c311271bc1d5",
   "metadata": {},
   "outputs": [],
   "source": [
    "gpu_count = df_posts.groupby('subreddit')[['intel_gpu','nvidia_gpu','amd_gpu']].sum()"
   ]
  },
  {
   "cell_type": "code",
   "execution_count": 103,
   "id": "46708b16-69a4-41c2-a19f-5571d16cbee0",
   "metadata": {},
   "outputs": [
    {
     "data": {
      "image/png": "[encoded data removed]",
      "text/plain": [
       "<Figure size 640x480 with 1 Axes>"
      ]
     },
     "metadata": {},
     "output_type": "display_data"
    }
   ],
   "source": [
    "gpu_count.plot(kind='bar')\n",
    "plt.xlabel('Subreddit')\n",
    "plt.ylabel('GPU count')\n",
    "plt.title('GPU Model Reference Count per Subreddit')\n",
    "plt.show()"
   ]
  },
  {
   "cell_type": "markdown",
   "id": "c886dd08-61db-4410-ba4c-cdc4f07c0c93",
   "metadata": {},
   "source": [
    "### Observations"
   ]
  },
  {
   "cell_type": "markdown",
   "id": "c03fe734-44f0-45e0-aa41-1deaf9ba94d9",
   "metadata": {},
   "source": [
    "- Our regex attempts at finding different gpu model references were successful, but unfortunately the results are now what we were hoping for.\n",
    "- Both AMD and NVIDIA model numbers were picked up on, but there was either no reference to the newer Intel GPU Models, or our query was unsuccessful.\n",
    "- After doing some research,if we had more time and resources we could potentially invest in a Named Entity Recognition Model.\n",
    "    - https://towardsdatascience.com/named-entity-recognition-applications-and-use-cases-acdbf57d595e\n",
    "    - We will recommend this approach as a more accurate/reliable way to be sure there is no reference of our latest models in these subreddits\n",
    "    - Also, in future usecases we should expand our search to:\n",
    "        - More Subreddits\n",
    "        - Include comments as well\n",
    "- That being said, let's save our newly cleaned dataframe, run our models, record our scores, and analyze if the additional steps helped or hurt our models\n"
   ]
  },
  {
   "cell_type": "code",
   "execution_count": 104,
   "id": "19f14cd1-9995-45cf-ac8d-431d9e47b22c",
   "metadata": {},
   "outputs": [
    {
     "data": {
      "text/plain": [
       "Index(['subreddit', 'selftext', 'title', 'author', 'num_comments',\n",
       "       'selftext_word_count', 'selftext_length', 'title_word_count',\n",
       "       'title_length', 'text', 'intel_gpu', 'nvidia_gpu', 'amd_gpu'],\n",
       "      dtype='object')"
      ]
     },
     "execution_count": 104,
     "metadata": {},
     "output_type": "execute_result"
    }
   ],
   "source": [
    "df_posts.columns"
   ]
  },
  {
   "cell_type": "code",
   "execution_count": 107,
   "id": "759de3c2-f025-4bb0-a838-1b460fa9ed03",
   "metadata": {},
   "outputs": [],
   "source": [
    "df_posts.drop(columns=['author','num_comments','selftext',\n",
    "                       'title','selftext_word_count','selftext_length',\n",
    "                       'selftext_length','title_word_count','title_length',\n",
    "                       'intel_gpu','nvidia_gpu','amd_gpu'], inplace=True)"
   ]
  },
  {
   "cell_type": "code",
   "execution_count": 108,
   "id": "55b1aeb9-456e-454c-a809-e090a360f6fd",
   "metadata": {},
   "outputs": [],
   "source": [
    "df_posts.to_csv('../data/v2cleaned_NVIDIA_AMD.csv')"
   ]
  }
 ],
 "metadata": {
  "kernelspec": {
   "display_name": "Python 3 (ipykernel)",
   "language": "python",
   "name": "python3"
  },
  "language_info": {
   "codemirror_mode": {
    "name": "ipython",
    "version": 3
   },
   "file_extension": ".py",
   "mimetype": "text/x-python",
   "name": "python",
   "nbconvert_exporter": "python",
   "pygments_lexer": "ipython3",
   "version": "3.9.13"
  }
 },
 "nbformat": 4,
 "nbformat_minor": 5
}
